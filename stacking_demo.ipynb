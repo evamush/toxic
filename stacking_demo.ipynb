{
 "cells": [
  {
   "cell_type": "code",
   "execution_count": 2,
   "metadata": {},
   "outputs": [
    {
     "name": "stderr",
     "output_type": "stream",
     "text": [
      "/Library/Frameworks/Python.framework/Versions/3.6/lib/python3.6/site-packages/h5py/__init__.py:36: FutureWarning: Conversion of the second argument of issubdtype from `float` to `np.floating` is deprecated. In future, it will be treated as `np.float64 == np.dtype(float).type`.\n",
      "  from ._conv import register_converters as _register_converters\n",
      "Using TensorFlow backend.\n"
     ]
    }
   ],
   "source": [
    "import time\n",
    "start_time = time.time()\n",
    "from sklearn.model_selection import train_test_split\n",
    "import sys, os, re, csv, codecs, numpy as np, pandas as pd\n",
    "np.random.seed(32)\n",
    "os.environ[\"OMP_NUM_THREADS\"] = \"4\"\n",
    "from keras.preprocessing.text import Tokenizer\n",
    "from keras.preprocessing.sequence import pad_sequences\n",
    "from keras.layers import Dense, Input, LSTM, Embedding, Dropout, Activation, Conv1D\n",
    "from keras.layers import Bidirectional, GlobalMaxPool1D, MaxPooling1D, Add, Flatten\n",
    "from keras.layers import GlobalAveragePooling1D, GlobalMaxPooling1D, concatenate, SpatialDropout1D\n",
    "from keras.models import Model, load_model\n",
    "from keras import initializers, regularizers, constraints, optimizers, layers, callbacks\n",
    "from keras import backend as K\n",
    "from keras.engine import InputSpec, Layer\n",
    "\n",
    "import pandas as pd\n",
    "import numpy as np\n",
    "from sklearn.model_selection import KFold"
   ]
  },
  {
   "cell_type": "code",
   "execution_count": 37,
   "metadata": {
    "collapsed": true
   },
   "outputs": [],
   "source": [
    "num_models = 5\n",
    "kf = KFold(n_splits=num_models, random_state=2222)"
   ]
  },
  {
   "cell_type": "code",
   "execution_count": 4,
   "metadata": {
    "collapsed": true
   },
   "outputs": [],
   "source": [
    "def get_oof(clf, X_train, y_train, X_test):\n",
    "    oof_train = np.zeros((X_train.shape[0], 6))\n",
    "    oof_test = np.zeros((num_models, X_test.shape[0],6))\n",
    "    \n",
    "    for i, (train_index, val_index) in enumerate(kf.split(X_train)):\n",
    "        print(\"Fold: {0}\".format(i))\n",
    "        kf_X_train = X_train[train_index]\n",
    "        kf_y_train = y_train[train_index]\n",
    "        kf_X_val = X_train[val_index]\n",
    "        \n",
    "        print(kf_X_train.shape)\n",
    "        \n",
    "        clf.fit(kf_X_train, kf_y_train)\n",
    "        \n",
    "        oof_train[val_index,:] = clf.predict(kf_X_val)\n",
    "        oof_test[i,:,:] = clf.predict(X_test)\n",
    "        \n",
    "    oof_test = np.mean(oof_test, axis=0)\n",
    "    assert oof_test.shape == (X_test.shape[0],6)\n",
    "    assert oof_train.shape == (X_train.shape[0], 6)\n",
    "    \n",
    "    return oof_train, oof_test\n",
    "        "
   ]
  },
  {
   "cell_type": "code",
   "execution_count": 38,
   "metadata": {
    "collapsed": true
   },
   "outputs": [],
   "source": [
    "import logging\n",
    "from sklearn.metrics import roc_auc_score\n",
    "from keras.callbacks import Callback\n",
    "\n",
    "class RocAucEvaluation(Callback):\n",
    "    def __init__(self, validation_data=(), interval=1):\n",
    "        super(Callback, self).__init__()\n",
    "\n",
    "        self.interval = interval\n",
    "        self.X_val, self.y_val = validation_data\n",
    "\n",
    "    def on_epoch_end(self, epoch, logs={}):\n",
    "        if epoch % self.interval == 0:\n",
    "            y_pred = self.model.predict(self.X_val, verbose=0)\n",
    "            score = roc_auc_score(self.y_val, y_pred)\n",
    "            print(\"\\n ROC-AUC - epoch: {:d} - score: {:.6f}\".format(epoch+1, score))"
   ]
  },
  {
   "cell_type": "code",
   "execution_count": 39,
   "metadata": {
    "collapsed": true
   },
   "outputs": [],
   "source": [
    "train = pd.read_csv(\"./dataset/train.csv\", header = 0)\n",
    "test = pd.read_csv(\"./dataset/test.csv\", header = 0)\n",
    "embedding_path = \"./dataset/crawl-300d-2M.vec\""
   ]
  },
  {
   "cell_type": "code",
   "execution_count": 40,
   "metadata": {
    "collapsed": true
   },
   "outputs": [],
   "source": [
    "embed_size = 300\n",
    "max_features = 100000\n",
    "max_len = 150"
   ]
  },
  {
   "cell_type": "code",
   "execution_count": 41,
   "metadata": {
    "collapsed": true
   },
   "outputs": [],
   "source": [
    "list_classes = [\"toxic\", \"severe_toxic\", \"obscene\", \"threat\", \"insult\", \"identity_hate\"]\n",
    "y_train = train[list_classes].values\n",
    "\n",
    "train[\"comment_text\"].fillna(\"no comment\")\n",
    "test[\"comment_text\"].fillna(\"no comment\")\n",
    "\n",
    "X_train = train[\"comment_text\"].str.lower()\n",
    "X_test = test[\"comment_text\"].str.lower() "
   ]
  },
  {
   "cell_type": "code",
   "execution_count": 10,
   "metadata": {
    "collapsed": true
   },
   "outputs": [],
   "source": [
    "def get_coefs(word,*arr): return word, np.asarray(arr, dtype='float32')\n",
    "embedding_index = dict(get_coefs(*o.strip().split(\" \")) for o in open(embedding_path))"
   ]
  },
  {
   "cell_type": "code",
   "execution_count": 12,
   "metadata": {
    "collapsed": true
   },
   "outputs": [],
   "source": [
    "word_index = tk.word_index\n",
    "nb_words = min(max_features, len(word_index))\n",
    "embedding_matrix = np.zeros((nb_words, embed_size))\n",
    "for word, i in word_index.items():\n",
    "    if i >= max_features: continue\n",
    "    embedding_vector = embedding_index.get(word)\n",
    "    if embedding_vector is not None: embedding_matrix[i] = embedding_vector"
   ]
  },
  {
   "cell_type": "code",
   "execution_count": 42,
   "metadata": {
    "collapsed": true
   },
   "outputs": [],
   "source": [
    "tk = Tokenizer(num_words = max_features, lower = True)\n",
    "tk.fit_on_texts(list(X_train)+list(X_test))   \n",
    "\n",
    "X_train = tk.texts_to_sequences(X_train)\n",
    "X_test = tk.texts_to_sequences(X_test)\n",
    "X_train = pad_sequences(X_train, maxlen=max_len)\n",
    "X_test = pad_sequences(X_test, maxlen=max_len)"
   ]
  },
  {
   "cell_type": "code",
   "execution_count": 43,
   "metadata": {
    "collapsed": true
   },
   "outputs": [],
   "source": [
    "from keras.optimizers import Adam, RMSprop\n",
    "from keras.callbacks import EarlyStopping, ModelCheckpoint, LearningRateScheduler\n",
    "from keras.layers import GRU, BatchNormalization, Conv1D, MaxPooling1D\n",
    "\n",
    "file_path = \"best_model.hdf5\"\n",
    "check_point = ModelCheckpoint(file_path, monitor = \"val_loss\", verbose = 1,\n",
    "                              save_best_only = True, mode = \"min\")\n",
    "early_stop = EarlyStopping(monitor = \"val_loss\", mode = \"min\", patience = 5)\n",
    " \n",
    "        \n",
    "def build_model(X_test,lr = 0.0, lr_d = 0.0, units = 0, dr = 0.0):\n",
    "    \n",
    "    oof_train = np.zeros((X_train.shape[0], 6))\n",
    "    oof_test = np.zeros((num_models, X_test.shape[0],6))\n",
    "    \n",
    "    for i, (train_index, val_index) in enumerate(kf.split(X_train)):\n",
    "        print(\"Fold: {0}\".format(i))\n",
    "        \n",
    "        \n",
    "        kf_X_train = X_train[train_index]\n",
    "        kf_y_train = y_train[train_index]\n",
    "        kf_X_val= X_train[val_index]\n",
    "        kf_y_val = y_train[val_index]\n",
    "        \n",
    "        print(kf_X_train.shape)\n",
    "      \n",
    "        ra_val = RocAucEvaluation(validation_data=(kf_X_val, kf_y_val), interval = 1)\n",
    "    \n",
    "        #model\n",
    "        inp = Input(shape = (max_len,))\n",
    "        x = Embedding(max_features, embed_size, weights = [embedding_matrix], trainable = False)(inp)\n",
    "        x = SpatialDropout1D(dr)(x)\n",
    "\n",
    "        x = Bidirectional(GRU(units, return_sequences = True))(x)\n",
    "        x = Conv1D(64, kernel_size = 2, padding = \"valid\", kernel_initializer = \"he_uniform\")(x)\n",
    "        avg_pool = GlobalAveragePooling1D()(x)\n",
    "        max_pool = GlobalMaxPooling1D()(x)\n",
    "        x = concatenate([avg_pool, max_pool])\n",
    "\n",
    "        x = Dense(6, activation = \"sigmoid\")(x)\n",
    "        model = Model(inputs = inp, outputs = x)\n",
    "        model.compile(loss = \"binary_crossentropy\", optimizer = Adam(lr = lr, decay = lr_d), metrics = [\"accuracy\"])\n",
    "        print(i)\n",
    "    \n",
    "        model.fit(kf_X_train,kf_y_train,batch_size = 128, epochs = 4, validation_data=(kf_X_val, kf_y_val), \n",
    "                        verbose = 1, callbacks = [ra_val, check_point, early_stop])\n",
    "        model = load_model(file_path)\n",
    "        \n",
    "        oof_train[val_index,:] = model.predict(kf_X_val, verbose = 1)\n",
    "        oof_test[i,:,:] = model.predict(X_test, verbose = 1)\n",
    "        \n",
    "    oof_test = np.mean(oof_test, axis=0)\n",
    "    assert oof_test.shape == (X_test.shape[0],6)\n",
    "    assert oof_train.shape == (X_train.shape[0], 6)\n",
    "    \n",
    "    return oof_train, oof_test"
   ]
  },
  {
   "cell_type": "code",
   "execution_count": null,
   "metadata": {
    "collapsed": true
   },
   "outputs": [],
   "source": [
    "oof_train, oof_test = build_model(X_test,lr = 1e-3, lr_d = 0, units = 128, dr = 0.2)"
   ]
  },
  {
   "cell_type": "code",
   "execution_count": 45,
   "metadata": {},
   "outputs": [
    {
     "data": {
      "text/plain": [
       "array([[6.78710919e-03, 2.08987869e-04, 2.56251567e-03, 2.74572885e-05,\n",
       "        1.88121700e-03, 1.77073045e-04],\n",
       "       [5.23041061e-04, 5.20681751e-05, 2.27438781e-04, 2.45440424e-05,\n",
       "        4.99723887e-04, 6.69919318e-05],\n",
       "       [5.28604025e-03, 1.72453612e-04, 5.05819509e-04, 3.15974394e-05,\n",
       "        5.84439840e-04, 1.79916795e-04],\n",
       "       ...,\n",
       "       [1.55865084e-02, 9.61945392e-04, 5.88781899e-03, 7.28134983e-05,\n",
       "        1.51336344e-03, 1.35139460e-04],\n",
       "       [1.67419354e-03, 7.52802152e-05, 4.40404052e-04, 1.42882374e-04,\n",
       "        6.32530719e-04, 3.03306279e-05],\n",
       "       [1.91281289e-02, 4.78021742e-04, 2.75466172e-03, 1.07453507e-03,\n",
       "        2.81989621e-03, 1.22814105e-04]])"
      ]
     },
     "execution_count": 45,
     "metadata": {},
     "output_type": "execute_result"
    }
   ],
   "source": [
    "oof_train"
   ]
  },
  {
   "cell_type": "code",
   "execution_count": 46,
   "metadata": {},
   "outputs": [
    {
     "name": "stdout",
     "output_type": "stream",
     "text": [
      "[40462.89393281937] Completed!\n"
     ]
    }
   ],
   "source": [
    "submission = pd.read_csv(\"./dataset/sample_submission.csv\")\n",
    "submission[list_classes] = (oof_test)\n",
    "submission.to_csv(\"submission_stack_test.csv\", index = False)\n",
    "print(\"[{}] Completed!\".format(time.time() - start_time))"
   ]
  },
  {
   "cell_type": "code",
   "execution_count": 47,
   "metadata": {},
   "outputs": [
    {
     "data": {
      "text/html": [
       "<div>\n",
       "<style scoped>\n",
       "    .dataframe tbody tr th:only-of-type {\n",
       "        vertical-align: middle;\n",
       "    }\n",
       "\n",
       "    .dataframe tbody tr th {\n",
       "        vertical-align: top;\n",
       "    }\n",
       "\n",
       "    .dataframe thead th {\n",
       "        text-align: right;\n",
       "    }\n",
       "</style>\n",
       "<table border=\"1\" class=\"dataframe\">\n",
       "  <thead>\n",
       "    <tr style=\"text-align: right;\">\n",
       "      <th></th>\n",
       "      <th>id</th>\n",
       "      <th>toxic</th>\n",
       "      <th>severe_toxic</th>\n",
       "      <th>obscene</th>\n",
       "      <th>threat</th>\n",
       "      <th>insult</th>\n",
       "      <th>identity_hate</th>\n",
       "    </tr>\n",
       "  </thead>\n",
       "  <tbody>\n",
       "    <tr>\n",
       "      <th>0</th>\n",
       "      <td>00001cee341fdb12</td>\n",
       "      <td>0.991794</td>\n",
       "      <td>0.488682</td>\n",
       "      <td>0.967501</td>\n",
       "      <td>0.258997</td>\n",
       "      <td>0.942821</td>\n",
       "      <td>0.387452</td>\n",
       "    </tr>\n",
       "    <tr>\n",
       "      <th>1</th>\n",
       "      <td>0000247867823ef7</td>\n",
       "      <td>0.001009</td>\n",
       "      <td>0.000159</td>\n",
       "      <td>0.000341</td>\n",
       "      <td>0.000026</td>\n",
       "      <td>0.000547</td>\n",
       "      <td>0.000031</td>\n",
       "    </tr>\n",
       "    <tr>\n",
       "      <th>2</th>\n",
       "      <td>00013b17ad220c46</td>\n",
       "      <td>0.001770</td>\n",
       "      <td>0.000536</td>\n",
       "      <td>0.000567</td>\n",
       "      <td>0.000099</td>\n",
       "      <td>0.000682</td>\n",
       "      <td>0.000121</td>\n",
       "    </tr>\n",
       "    <tr>\n",
       "      <th>3</th>\n",
       "      <td>00017563c3f7919a</td>\n",
       "      <td>0.000315</td>\n",
       "      <td>0.000030</td>\n",
       "      <td>0.000161</td>\n",
       "      <td>0.000101</td>\n",
       "      <td>0.000192</td>\n",
       "      <td>0.000012</td>\n",
       "    </tr>\n",
       "    <tr>\n",
       "      <th>4</th>\n",
       "      <td>00017695ad8997eb</td>\n",
       "      <td>0.011360</td>\n",
       "      <td>0.000913</td>\n",
       "      <td>0.002530</td>\n",
       "      <td>0.000521</td>\n",
       "      <td>0.001644</td>\n",
       "      <td>0.000120</td>\n",
       "    </tr>\n",
       "  </tbody>\n",
       "</table>\n",
       "</div>"
      ],
      "text/plain": [
       "                 id     toxic  severe_toxic   obscene    threat    insult  \\\n",
       "0  00001cee341fdb12  0.991794      0.488682  0.967501  0.258997  0.942821   \n",
       "1  0000247867823ef7  0.001009      0.000159  0.000341  0.000026  0.000547   \n",
       "2  00013b17ad220c46  0.001770      0.000536  0.000567  0.000099  0.000682   \n",
       "3  00017563c3f7919a  0.000315      0.000030  0.000161  0.000101  0.000192   \n",
       "4  00017695ad8997eb  0.011360      0.000913  0.002530  0.000521  0.001644   \n",
       "\n",
       "   identity_hate  \n",
       "0       0.387452  \n",
       "1       0.000031  \n",
       "2       0.000121  \n",
       "3       0.000012  \n",
       "4       0.000120  "
      ]
     },
     "execution_count": 47,
     "metadata": {},
     "output_type": "execute_result"
    }
   ],
   "source": [
    "submission.head()"
   ]
  },
  {
   "cell_type": "code",
   "execution_count": 48,
   "metadata": {
    "collapsed": true
   },
   "outputs": [],
   "source": [
    "train = pd.read_csv(\"./dataset/train.csv\", header = 0)\n",
    "train_id = train[\"id\"]\n",
    "submission = pd.DataFrame(columns = [\"id\",\"toxic\", \"severe_toxic\", \"obscene\", \"threat\", \"insult\", \"identity_hate\"])\n",
    "submission[\"id\"] = train_id\n",
    "submission[list_classes] = (oof_train)\n",
    "submission.to_csv(\"submission_stack_train.csv\", index = False)"
   ]
  },
  {
   "cell_type": "code",
   "execution_count": null,
   "metadata": {
    "collapsed": true
   },
   "outputs": [],
   "source": []
  }
 ],
 "metadata": {
  "kernelspec": {
   "display_name": "Python 3",
   "language": "python",
   "name": "python3"
  },
  "language_info": {
   "codemirror_mode": {
    "name": "ipython",
    "version": 3
   },
   "file_extension": ".py",
   "mimetype": "text/x-python",
   "name": "python",
   "nbconvert_exporter": "python",
   "pygments_lexer": "ipython3",
   "version": "3.6.2"
  }
 },
 "nbformat": 4,
 "nbformat_minor": 1
}
